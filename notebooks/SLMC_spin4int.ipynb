{
 "cells": [
  {
   "cell_type": "code",
   "execution_count": 1,
   "id": "ab75e45f-ad34-4402-8016-714c3c2ebc87",
   "metadata": {},
   "outputs": [
    {
     "name": "stderr",
     "output_type": "stream",
     "text": [
      "2024-03-18 14:24:04.079491: I tensorflow/core/util/port.cc:113] oneDNN custom operations are on. You may see slightly different numerical results due to floating-point round-off errors from different computation orders. To turn them off, set the environment variable `TF_ENABLE_ONEDNN_OPTS=0`.\n",
      "2024-03-18 14:24:04.111191: I tensorflow/core/platform/cpu_feature_guard.cc:210] This TensorFlow binary is optimized to use available CPU instructions in performance-critical operations.\n",
      "To enable the following instructions: AVX2 AVX_VNNI FMA, in other operations, rebuild TensorFlow with the appropriate compiler flags.\n",
      "2024-03-18 14:24:04.684756: W tensorflow/compiler/tf2tensorrt/utils/py_utils.cc:38] TF-TRT Warning: Could not find TensorRT\n",
      "[Epoch 1]:   0%|          | 0/3 [00:00<?, ?it/s]\n",
      "  0%|          | 0/100 [00:00<?, ?it/s]\u001b[A\n",
      " 13%|█▎        | 13/100 [00:00<00:00, 124.75it/s]\u001b[A\n",
      " 27%|██▋       | 27/100 [00:00<00:00, 132.49it/s]\u001b[A\n",
      " 41%|████      | 41/100 [00:00<00:00, 131.01it/s]\u001b[A\n",
      " 56%|█████▌    | 56/100 [00:00<00:00, 135.17it/s]\u001b[A\n",
      " 70%|███████   | 70/100 [00:00<00:00, 135.50it/s]\u001b[A\n",
      " 85%|████████▌ | 85/100 [00:00<00:00, 139.57it/s]\u001b[A\n",
      "100%|██████████| 100/100 [00:00<00:00, 142.51it/s]\u001b[A\n",
      "[Epoch 1]:   0%|          | 0/3 [00:00<?, ?it/s]  \u001b[A\n"
     ]
    },
    {
     "name": "stdout",
     "output_type": "stream",
     "text": [
      "train loss at epoch1: 0.03513182827473884\n"
     ]
    },
    {
     "name": "stderr",
     "output_type": "stream",
     "text": [
      "  0%|          | 0/100 [00:00<?, ?it/s]\u001b[A\n",
      " 16%|█▌        | 16/100 [00:00<00:00, 154.54it/s]\u001b[A\n",
      " 33%|███▎      | 33/100 [00:00<00:00, 160.06it/s]\u001b[A\n",
      " 51%|█████     | 51/100 [00:00<00:00, 165.98it/s]\u001b[A\n",
      " 68%|██████▊   | 68/100 [00:00<00:00, 167.36it/s]\u001b[A\n",
      " 85%|████████▌ | 85/100 [00:00<00:00, 161.74it/s]\u001b[A\n"
     ]
    },
    {
     "name": "stdout",
     "output_type": "stream",
     "text": [
      "eval loss at epoch1: 0.03029110999810655\n"
     ]
    },
    {
     "name": "stderr",
     "output_type": "stream",
     "text": [
      "[Epoch 2]:   0%|          | 0/3 [00:01<?, ?it/s] \u001b[A\n",
      "  0%|          | 0/100 [00:00<?, ?it/s]\u001b[A\n",
      " 16%|█▌        | 16/100 [00:00<00:00, 152.47it/s]\u001b[A\n",
      " 33%|███▎      | 33/100 [00:00<00:00, 158.34it/s]\u001b[A\n",
      " 50%|█████     | 50/100 [00:00<00:00, 161.60it/s]\u001b[A\n",
      " 67%|██████▋   | 67/100 [00:00<00:00, 163.03it/s]\u001b[A\n",
      " 84%|████████▍ | 84/100 [00:00<00:00, 162.96it/s]\u001b[A\n",
      "[Epoch 2]:   0%|          | 0/3 [00:01<?, ?it/s] \u001b[A\n"
     ]
    },
    {
     "name": "stdout",
     "output_type": "stream",
     "text": [
      "train loss at epoch2: 0.034882707342130746\n"
     ]
    },
    {
     "name": "stderr",
     "output_type": "stream",
     "text": [
      "  0%|          | 0/100 [00:00<?, ?it/s]\u001b[A\n",
      " 18%|█▊        | 18/100 [00:00<00:00, 171.97it/s]\u001b[A\n",
      " 36%|███▌      | 36/100 [00:00<00:00, 170.98it/s]\u001b[A\n",
      " 54%|█████▍    | 54/100 [00:00<00:00, 170.30it/s]\u001b[A\n",
      " 72%|███████▏  | 72/100 [00:00<00:00, 167.66it/s]\u001b[A\n",
      " 89%|████████▉ | 89/100 [00:00<00:00, 165.57it/s]\u001b[A\n"
     ]
    },
    {
     "name": "stdout",
     "output_type": "stream",
     "text": [
      "eval loss at epoch2: 0.030083090371072103\n"
     ]
    },
    {
     "name": "stderr",
     "output_type": "stream",
     "text": [
      "[Epoch 3]:   0%|          | 0/3 [00:02<?, ?it/s] \u001b[A\n",
      "  0%|          | 0/100 [00:00<?, ?it/s]\u001b[A\n",
      " 16%|█▌        | 16/100 [00:00<00:00, 155.78it/s]\u001b[A\n",
      " 33%|███▎      | 33/100 [00:00<00:00, 162.34it/s]\u001b[A\n",
      " 50%|█████     | 50/100 [00:00<00:00, 164.14it/s]\u001b[A\n",
      " 67%|██████▋   | 67/100 [00:00<00:00, 163.13it/s]\u001b[A\n",
      " 84%|████████▍ | 84/100 [00:00<00:00, 162.69it/s]\u001b[A\n",
      "[Epoch 3]:   0%|          | 0/3 [00:03<?, ?it/s] \u001b[A\n"
     ]
    },
    {
     "name": "stdout",
     "output_type": "stream",
     "text": [
      "train loss at epoch3: 0.03463540047518563\n"
     ]
    },
    {
     "name": "stderr",
     "output_type": "stream",
     "text": [
      "  0%|          | 0/100 [00:00<?, ?it/s]\u001b[A\n",
      " 18%|█▊        | 18/100 [00:00<00:00, 172.34it/s]\u001b[A\n",
      " 36%|███▌      | 36/100 [00:00<00:00, 165.53it/s]\u001b[A\n",
      " 53%|█████▎    | 53/100 [00:00<00:00, 167.22it/s]\u001b[A\n",
      " 70%|███████   | 70/100 [00:00<00:00, 164.23it/s]\u001b[A\n",
      " 87%|████████▋ | 87/100 [00:00<00:00, 161.64it/s]\u001b[A\n",
      "[Epoch 3]:   0%|          | 0/3 [00:03<?, ?it/s] \u001b[A\n"
     ]
    },
    {
     "name": "stdout",
     "output_type": "stream",
     "text": [
      "eval loss at epoch3: 0.02987655178523255\n",
      "test loss: 0.031773930433182614\n",
      "tensor([1.0001, 1.0014, 0.9900, 0.9890], requires_grad=True)\n"
     ]
    },
    {
     "name": "stderr",
     "output_type": "stream",
     "text": [
      "                                                 \r"
     ]
    }
   ],
   "source": [
    "%%python\n",
    "\n",
    "import numpy as np\n",
    "import matplotlib.pyplot as plt\n",
    "import torch\n",
    "\n",
    "import os\n",
    "\n",
    "import sys\n",
    "sys.path.append(\"../src/\")\n",
    "from trainer import Spin4InteractionTrainer\n",
    "from utils import plot_sorted_energy\n",
    "\n",
    "import click\n",
    "\n",
    "@click.command()\n",
    "#@click.option(\"--output_dir\", required=True)\n",
    "@click.option(\"--output_dir\", default=\"../images/\")\n",
    "@click.option(\"--j\", default=1)\n",
    "@click.option(\"--k\", default=0.2)\n",
    "@click.option(\"--lx\", default=10)\n",
    "@click.option(\"--ly\", default=10)\n",
    "@click.option(\"--lr\", default=0.001)\n",
    "@click.option(\"--train_samples\", default=100)\n",
    "@click.option(\"--eval_samples\", default=100)\n",
    "@click.option(\"--test_samples\", default=100)\n",
    "@click.option(\"--epochs\", default=3)\n",
    "@click.option(\"--batch_size\", default=1)\n",
    "@click.option(\"--optimizer_name\", default=\"SGD\")\n",
    "#@click.option(\"--save_model\", default=False)\n",
    "@click.option(\"--save_model\", default=True)\n",
    "def run(\n",
    "    output_dir,\n",
    "    j,\n",
    "    k,\n",
    "    lx,\n",
    "    ly,\n",
    "    lr,\n",
    "    train_samples,\n",
    "    eval_samples,\n",
    "    test_samples,\n",
    "    epochs,\n",
    "    batch_size,\n",
    "    optimizer_name,\n",
    "    save_model,\n",
    "):\n",
    "    trainer = Spin4InteractionTrainer(j, k, lx, ly)\n",
    "    normalize_const = lx * ly\n",
    "    E_original, E_eff = trainer(\n",
    "        output_dir=output_dir,\n",
    "        lr=lr,\n",
    "        train_samples=train_samples,\n",
    "        eval_samples=eval_samples,\n",
    "        test_samples=test_samples,\n",
    "        epochs=epochs,\n",
    "        batch_size=batch_size,\n",
    "        optimizer_name=optimizer_name,\n",
    "        normalize_const=normalize_const,\n",
    "        save_model=save_model,\n",
    "    )\n",
    "    plot_sorted_energy(\n",
    "        E_original,\n",
    "        E_eff,\n",
    "        save_path=os.path.join(output_dir, \"sorted_energy.png\"),\n",
    "    )\n",
    "    params = torch.load(os.path.join(output_dir, \"model.pth\"))\n",
    "    print(params)\n",
    "\n",
    "\n",
    "if __name__ == \"__main__\":\n",
    "    run()"
   ]
  },
  {
   "cell_type": "code",
   "execution_count": null,
   "id": "952c7ed6-0e6e-4eff-a83d-6d3f419fa582",
   "metadata": {},
   "outputs": [],
   "source": []
  }
 ],
 "metadata": {
  "kernelspec": {
   "display_name": "Python 3 (ipykernel)",
   "language": "python",
   "name": "python3"
  },
  "language_info": {
   "codemirror_mode": {
    "name": "ipython",
    "version": 3
   },
   "file_extension": ".py",
   "mimetype": "text/x-python",
   "name": "python",
   "nbconvert_exporter": "python",
   "pygments_lexer": "ipython3",
   "version": "3.11.8"
  }
 },
 "nbformat": 4,
 "nbformat_minor": 5
}
