{
 "cells": [
  {
   "cell_type": "code",
   "execution_count": 2,
   "id": "6c3eb558-fe73-4091-91ee-e0643a93e3ac",
   "metadata": {},
   "outputs": [
    {
     "name": "stderr",
     "output_type": "stream",
     "text": [
      "2024-03-21 09:42:36.576303: I tensorflow/core/util/port.cc:113] oneDNN custom operations are on. You may see slightly different numerical results due to floating-point round-off errors from different computation orders. To turn them off, set the environment variable `TF_ENABLE_ONEDNN_OPTS=0`.\n",
      "2024-03-21 09:42:36.615824: I tensorflow/core/platform/cpu_feature_guard.cc:210] This TensorFlow binary is optimized to use available CPU instructions in performance-critical operations.\n",
      "To enable the following instructions: AVX2 AVX_VNNI FMA, in other operations, rebuild TensorFlow with the appropriate compiler flags.\n",
      "2024-03-21 09:42:37.257049: W tensorflow/compiler/tf2tensorrt/utils/py_utils.cc:38] TF-TRT Warning: Could not find TensorRT\n",
      "[Epoch 1]:   0%|          | 0/3 [00:00<?, ?it/s]\n",
      "  0%|          | 0/100 [00:00<?, ?it/s]\u001b[A\n"
     ]
    },
    {
     "name": "stdout",
     "output_type": "stream",
     "text": [
      "train loss at epoch1: 299.0703437139839\n"
     ]
    },
    {
     "name": "stderr",
     "output_type": "stream",
     "text": [
      "[Epoch 1]:   0%|          | 0/3 [00:00<?, ?it/s]\n",
      "  0%|          | 0/100 [00:00<?, ?it/s]\u001b[A\n"
     ]
    },
    {
     "name": "stdout",
     "output_type": "stream",
     "text": [
      "eval loss at epoch1: 274.21138644760475\n"
     ]
    },
    {
     "name": "stderr",
     "output_type": "stream",
     "text": [
      "[Epoch 2]:   0%|          | 0/3 [00:00<?, ?it/s]\n",
      "  0%|          | 0/100 [00:00<?, ?it/s]\u001b[A\n",
      "[Epoch 2]:   0%|          | 0/3 [00:00<?, ?it/s]\n"
     ]
    },
    {
     "name": "stdout",
     "output_type": "stream",
     "text": [
      "train loss at epoch2: 192.8658820970729\n"
     ]
    },
    {
     "name": "stderr",
     "output_type": "stream",
     "text": [
      "  0%|          | 0/100 [00:00<?, ?it/s]\u001b[A\n"
     ]
    },
    {
     "name": "stdout",
     "output_type": "stream",
     "text": [
      "eval loss at epoch2: 259.40124506548045\n"
     ]
    },
    {
     "name": "stderr",
     "output_type": "stream",
     "text": [
      "[Epoch 3]:   0%|          | 0/3 [00:00<?, ?it/s]\n",
      "  0%|          | 0/100 [00:00<?, ?it/s]\u001b[A\n",
      "[Epoch 3]:   0%|          | 0/3 [00:00<?, ?it/s]\n"
     ]
    },
    {
     "name": "stdout",
     "output_type": "stream",
     "text": [
      "train loss at epoch3: 144.22533070272067\n"
     ]
    },
    {
     "name": "stderr",
     "output_type": "stream",
     "text": [
      "  0%|          | 0/100 [00:00<?, ?it/s]\u001b[A\n",
      "[Epoch 3]:   0%|          | 0/3 [00:00<?, ?it/s]\n"
     ]
    },
    {
     "name": "stdout",
     "output_type": "stream",
     "text": [
      "eval loss at epoch3: 259.31361553393305\n",
      "test loss: 294.54963227555623\n"
     ]
    },
    {
     "name": "stderr",
     "output_type": "stream",
     "text": [
      "                                       \r"
     ]
    }
   ],
   "source": [
    "%%python\n",
    "\n",
    "import numpy as np\n",
    "import matplotlib.pyplot as plt\n",
    "import torch\n",
    "\n",
    "import os\n",
    "\n",
    "import sys\n",
    "sys.path.append(\"../src/\")\n",
    "from trainer import Ising2DTrainer\n",
    "from utils import plot_sorted_energy\n",
    "\n",
    "import click\n",
    "@click.command()\n",
    "#@click.option(\"--output_dir\", required=True)\n",
    "@click.option(\"--output_dir\", default=\"../images/\")\n",
    "@click.option(\"--j\", default=1)\n",
    "@click.option(\"--lx\", default=10)\n",
    "@click.option(\"--ly\", default=10)\n",
    "@click.option(\"--lr\", default=0.001)\n",
    "@click.option(\"--train_samples\", default=100)\n",
    "@click.option(\"--eval_samples\", default=100)\n",
    "@click.option(\"--test_samples\", default=100)\n",
    "@click.option(\"--epochs\", default=3)\n",
    "@click.option(\"--batch_size\", default=1)\n",
    "@click.option(\"--optimizer_name\", default=\"SGD\")\n",
    "def run(\n",
    "    output_dir,\n",
    "    j,\n",
    "    lx,\n",
    "    ly,\n",
    "    lr,\n",
    "    train_samples,\n",
    "    eval_samples,\n",
    "    test_samples,\n",
    "    epochs,\n",
    "    batch_size,\n",
    "    optimizer_name,\n",
    "):\n",
    "    trainer = Ising2DTrainer(j, lx, ly)\n",
    "\n",
    "    E_original, E_eff = trainer(\n",
    "        output_dir=output_dir,\n",
    "        lr=lr,\n",
    "        train_samples=train_samples,\n",
    "        eval_samples=eval_samples,\n",
    "        test_samples=test_samples,\n",
    "        epochs=epochs,\n",
    "        batch_size=batch_size,\n",
    "        optimizer_name=optimizer_name,\n",
    "    )\n",
    "    plot_sorted_energy(\n",
    "        E_original,\n",
    "        E_eff,\n",
    "        save_path=os.path.join(output_dir, \"sorted_energy.png\"),\n",
    "    )\n",
    "\n",
    "\n",
    "if __name__ == \"__main__\":\n",
    "    run()\n"
   ]
  },
  {
   "cell_type": "code",
   "execution_count": null,
   "id": "c4c1d538-f990-4e2d-aa6a-81bda9ed3a50",
   "metadata": {},
   "outputs": [],
   "source": []
  }
 ],
 "metadata": {
  "kernelspec": {
   "display_name": "Python 3 (ipykernel)",
   "language": "python",
   "name": "python3"
  },
  "language_info": {
   "codemirror_mode": {
    "name": "ipython",
    "version": 3
   },
   "file_extension": ".py",
   "mimetype": "text/x-python",
   "name": "python",
   "nbconvert_exporter": "python",
   "pygments_lexer": "ipython3",
   "version": "3.11.8"
  }
 },
 "nbformat": 4,
 "nbformat_minor": 5
}
